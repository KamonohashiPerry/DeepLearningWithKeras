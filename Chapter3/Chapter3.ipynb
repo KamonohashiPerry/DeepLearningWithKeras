{
  "nbformat": 4,
  "nbformat_minor": 0,
  "metadata": {
    "colab": {
      "name": "Chapter3.ipynb",
      "provenance": [],
      "collapsed_sections": [],
      "authorship_tag": "ABX9TyPlu00tXsbBm7JQMPxCuSoY",
      "include_colab_link": true
    },
    "kernelspec": {
      "name": "python3",
      "display_name": "Python 3"
    }
  },
  "cells": [
    {
      "cell_type": "markdown",
      "metadata": {
        "id": "view-in-github",
        "colab_type": "text"
      },
      "source": [
        "<a href=\"https://colab.research.google.com/github/KamonohashiPerry/DeepLearningWithKeras/blob/master/Chapter3/Chapter3.ipynb\" target=\"_parent\"><img src=\"https://colab.research.google.com/assets/colab-badge.svg\" alt=\"Open In Colab\"/></a>"
      ]
    },
    {
      "cell_type": "markdown",
      "metadata": {
        "id": "sBUmreuaiq4L",
        "colab_type": "text"
      },
      "source": [
        "# 畳み込みニューラルネットワーク\n",
        "+ 空間的な特徴を捉えることができる、画像の分類に適したネットワーク\n",
        "  + テキスト、動画、音声の機械学習にも使われている。"
      ]
    },
    {
      "cell_type": "markdown",
      "metadata": {
        "id": "Ruw-7ZJXjron",
        "colab_type": "text"
      },
      "source": [
        "## 畳み込みニューラルネットワークの仕組み\n",
        "+ 多くの層から構成されるネットワーク\n",
        "  + 畳み込み層：画像の畳み込み\n",
        "  + プーリング層：サイズ圧縮\n",
        "\n",
        "+ 層をへるごとに出力の深さが増し、最終的には全結合層のネットワークに接続される。\n",
        "\n",
        "+ 3つの重要な概念\n",
        "  + 局所受容野\n",
        "  + 重みの共有\n",
        "  + プーリング\n",
        "\n",
        "### 局所受容野（local receptive field）\n",
        "+ 入力データ内の一定領域を次のレイヤーに存在する一つのノードに接続するためのノード。\n",
        "  + この処理のことを畳み込みと呼ぶ。\n",
        "+ 畳み込みにおいて、畳み込む領域を重複させることでより多くの情報を伝えることができる。\n",
        "  + これらのネットワークの設定は、ハイパーパラメータにもなる。\n",
        "    + kernel_size：畳み込む領域のサイズ\n",
        "    + strides：ずらしていく幅\n",
        "  + 特徴マップ\n",
        "    + 畳み込みにより作成されたマトリクスのこと\n",
        "      + filters：特徴マップの畳み込んだものの数を指定できる\n",
        "\n",
        "\n",
        "### 重みの共有\n",
        "\n",
        "### プーリング層（pooling layer）\n",
        "+ Max-pooling\n",
        "+ Average pooling"
      ]
    },
    {
      "cell_type": "code",
      "metadata": {
        "id": "co_4R6Cfii7c",
        "colab_type": "code",
        "colab": {}
      },
      "source": [
        ""
      ],
      "execution_count": null,
      "outputs": []
    }
  ]
}