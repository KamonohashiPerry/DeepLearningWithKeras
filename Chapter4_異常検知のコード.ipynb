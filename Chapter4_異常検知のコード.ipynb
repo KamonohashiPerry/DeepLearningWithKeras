{
  "nbformat": 4,
  "nbformat_minor": 0,
  "metadata": {
    "colab": {
      "name": "Chapter4_異常検知のコード.ipynb",
      "provenance": [],
      "collapsed_sections": [],
      "toc_visible": true,
      "authorship_tag": "ABX9TyN5SKtkS+P0Fu/JGhWyG5x3",
      "include_colab_link": true
    },
    "kernelspec": {
      "name": "python3",
      "display_name": "Python 3"
    },
    "language_info": {
      "name": "python"
    }
  },
  "cells": [
    {
      "cell_type": "markdown",
      "metadata": {
        "id": "view-in-github",
        "colab_type": "text"
      },
      "source": [
        "<a href=\"https://colab.research.google.com/github/KamonohashiPerry/DeepLearningWithKeras/blob/master/Chapter4_%E7%95%B0%E5%B8%B8%E6%A4%9C%E7%9F%A5%E3%81%AE%E3%82%B3%E3%83%BC%E3%83%89.ipynb\" target=\"_parent\"><img src=\"https://colab.research.google.com/assets/colab-badge.svg\" alt=\"Open In Colab\"/></a>"
      ]
    },
    {
      "cell_type": "markdown",
      "metadata": {
        "id": "Ivqqa4-Sielw"
      },
      "source": [
        "+ 点異常\n",
        " + 分布から異常に外れたもの\n",
        "+ 文脈依存型異常\n",
        " + 時系列の過程での異常\n",
        "+ 集団型異常\n",
        " + 一連のデータのなかでの異常"
      ]
    },
    {
      "cell_type": "markdown",
      "metadata": {
        "id": "oL5RvNGSjoGH"
      },
      "source": [
        "+ 教師あり異常検知\n",
        "+ 半教師あり異常検知\n",
        "+ 教師なし異常検知"
      ]
    },
    {
      "cell_type": "code",
      "metadata": {
        "colab": {
          "base_uri": "https://localhost:8080/"
        },
        "id": "IGtCteX1k9kw",
        "outputId": "f0e4407d-e9e1-4893-ccbc-bcd51e279c60"
      },
      "source": [
        "pip install changefinder"
      ],
      "execution_count": 1,
      "outputs": [
        {
          "output_type": "stream",
          "text": [
            "Collecting changefinder\n",
            "  Downloading changefinder-0.03.tar.gz (3.8 kB)\n",
            "Requirement already satisfied: numpy in /usr/local/lib/python3.7/dist-packages (from changefinder) (1.19.5)\n",
            "Requirement already satisfied: scipy in /usr/local/lib/python3.7/dist-packages (from changefinder) (1.4.1)\n",
            "Requirement already satisfied: statsmodels in /usr/local/lib/python3.7/dist-packages (from changefinder) (0.10.2)\n",
            "Collecting nose\n",
            "  Downloading nose-1.3.7-py3-none-any.whl (154 kB)\n",
            "\u001b[K     |████████████████████████████████| 154 kB 9.4 MB/s \n",
            "\u001b[?25hRequirement already satisfied: pandas>=0.19 in /usr/local/lib/python3.7/dist-packages (from statsmodels->changefinder) (1.1.5)\n",
            "Requirement already satisfied: patsy>=0.4.0 in /usr/local/lib/python3.7/dist-packages (from statsmodels->changefinder) (0.5.1)\n",
            "Requirement already satisfied: python-dateutil>=2.7.3 in /usr/local/lib/python3.7/dist-packages (from pandas>=0.19->statsmodels->changefinder) (2.8.1)\n",
            "Requirement already satisfied: pytz>=2017.2 in /usr/local/lib/python3.7/dist-packages (from pandas>=0.19->statsmodels->changefinder) (2018.9)\n",
            "Requirement already satisfied: six in /usr/local/lib/python3.7/dist-packages (from patsy>=0.4.0->statsmodels->changefinder) (1.15.0)\n",
            "Building wheels for collected packages: changefinder\n",
            "  Building wheel for changefinder (setup.py) ... \u001b[?25l\u001b[?25hdone\n",
            "  Created wheel for changefinder: filename=changefinder-0.3-py3-none-any.whl size=3841 sha256=8326e0d5d3ebb66569c6c86e5fc70d58bef5eab9b6d98029952e949344d4409a\n",
            "  Stored in directory: /root/.cache/pip/wheels/48/8f/4c/ba040e4cad3dbf0409c5c38ac9d3f92f947ea490412cdf3400\n",
            "Successfully built changefinder\n",
            "Installing collected packages: nose, changefinder\n",
            "Successfully installed changefinder-0.3 nose-1.3.7\n"
          ],
          "name": "stdout"
        }
      ]
    },
    {
      "cell_type": "code",
      "metadata": {
        "colab": {
          "base_uri": "https://localhost:8080/"
        },
        "id": "T3zhgNFoljrY",
        "outputId": "f15b589c-090c-42f8-e808-911c811413bb"
      },
      "source": [
        "import numpy as np\n",
        "import matplotlib.pyplot as plt\n",
        "\n",
        "import scipy\n",
        "\n",
        "import changefinder"
      ],
      "execution_count": 2,
      "outputs": [
        {
          "output_type": "stream",
          "text": [
            "/usr/local/lib/python3.7/dist-packages/statsmodels/tools/_testing.py:19: FutureWarning: pandas.util.testing is deprecated. Use the functions in the public API at pandas.testing instead.\n",
            "  import pandas.util.testing as tm\n"
          ],
          "name": "stderr"
        }
      ]
    },
    {
      "cell_type": "markdown",
      "metadata": {
        "id": "ddHGEWaa6DQR"
      },
      "source": [
        "## 変化点検出"
      ]
    },
    {
      "cell_type": "code",
      "metadata": {
        "id": "ywfq86aZgnlu"
      },
      "source": [
        "data = np.concatenate(\n",
        "                                  [np.random.normal(0.7, 0.05, 300),\n",
        "                                  np.random.normal(1.5, 0.05, 300),\n",
        "                                  np.random.normal(0.6, 0.05, 300),\n",
        "                                  np.random.normal(1.3, 0.05, 300)]\n",
        "                                  )"
      ],
      "execution_count": 3,
      "outputs": []
    },
    {
      "cell_type": "code",
      "metadata": {
        "colab": {
          "base_uri": "https://localhost:8080/"
        },
        "id": "prvlxpE2lTr6",
        "outputId": "d1f2f3ef-2182-4f81-a56b-a1000b5333c8"
      },
      "source": [
        "data"
      ],
      "execution_count": 4,
      "outputs": [
        {
          "output_type": "execute_result",
          "data": {
            "text/plain": [
              "array([0.76980288, 0.75549232, 0.66415778, ..., 1.28881671, 1.25790608,\n",
              "       1.32670558])"
            ]
          },
          "metadata": {
            "tags": []
          },
          "execution_count": 4
        }
      ]
    },
    {
      "cell_type": "code",
      "metadata": {
        "id": "q8D5b8X1mBYx"
      },
      "source": [
        "# r：忘却パラメータ\n",
        "# order：ARモデルの次数\n",
        "# smooth：スコアの平滑化のウィンドウ幅\n",
        "cf = changefinder.ChangeFinder(r=0.01, order=1, smooth=7)"
      ],
      "execution_count": 5,
      "outputs": []
    },
    {
      "cell_type": "code",
      "metadata": {
        "id": "QmLQWB-lmvsQ"
      },
      "source": [
        "result = np.empty(len(data))\n",
        "for i, d in enumerate(data):\n",
        "  # スコア\n",
        "  result[i] = cf.update(d)"
      ],
      "execution_count": 6,
      "outputs": []
    },
    {
      "cell_type": "code",
      "metadata": {
        "colab": {
          "base_uri": "https://localhost:8080/",
          "height": 265
        },
        "id": "G2yZw4a1nJVu",
        "outputId": "2e04da98-583a-4a10-f966-66d8e70082c6"
      },
      "source": [
        "fig = plt.figure()\n",
        "ax = fig.add_subplot(111)\n",
        "ax.plot(result, label=\"score\")\n",
        "ax2 = ax.twinx()\n",
        "ax2.plot(data, alpha=0.3, label=\"observation\");"
      ],
      "execution_count": 7,
      "outputs": [
        {
          "output_type": "display_data",
          "data": {
            "image/png": "[encoded data removed]",
            "text/plain": [
              "<Figure size 432x288 with 2 Axes>"
            ]
          },
          "metadata": {
            "tags": [],
            "needs_background": "light"
          }
        }
      ]
    },
    {
      "cell_type": "code",
      "metadata": {
        "id": "dnlDgkHIorc4"
      },
      "source": [
        "cf_2 = changefinder.ChangeFinder(r=0.01, order=1, smooth=7)"
      ],
      "execution_count": 8,
      "outputs": []
    },
    {
      "cell_type": "code",
      "metadata": {
        "id": "THZtxpD9n41u"
      },
      "source": [
        "data_2 = np.array([0, 0, 0, 2, 3, 100, 100, 115, 112, 117, 120, 115, 125, 140, 5, 4, 0])"
      ],
      "execution_count": 9,
      "outputs": []
    },
    {
      "cell_type": "code",
      "metadata": {
        "colab": {
          "base_uri": "https://localhost:8080/"
        },
        "id": "4ig6uduUobNz",
        "outputId": "a6d14c1e-6095-4006-999b-bf52e0914392"
      },
      "source": [
        "data_2"
      ],
      "execution_count": 10,
      "outputs": [
        {
          "output_type": "execute_result",
          "data": {
            "text/plain": [
              "array([  0,   0,   0,   2,   3, 100, 100, 115, 112, 117, 120, 115, 125,\n",
              "       140,   5,   4,   0])"
            ]
          },
          "metadata": {
            "tags": []
          },
          "execution_count": 10
        }
      ]
    },
    {
      "cell_type": "code",
      "metadata": {
        "id": "fd7eo-cjocHj"
      },
      "source": [
        "result_2 = np.empty(len(data_2))\n",
        "for i, d in enumerate(data_2):\n",
        "  # スコア\n",
        "  result_2[i] = cf_2.update(d)"
      ],
      "execution_count": 11,
      "outputs": []
    },
    {
      "cell_type": "code",
      "metadata": {
        "colab": {
          "base_uri": "https://localhost:8080/",
          "height": 265
        },
        "id": "YR9XMlraotrK",
        "outputId": "7c641e62-db2c-4193-c81b-151ed83c5369"
      },
      "source": [
        "fig = plt.figure()\n",
        "ax = fig.add_subplot(111)\n",
        "ax.plot(result_2, label=\"score\")\n",
        "ax2 = ax.twinx()\n",
        "ax2.plot(data_2, alpha=0.3, label=\"observation\");"
      ],
      "execution_count": 12,
      "outputs": [
        {
          "output_type": "display_data",
          "data": {
            "image/png": "[encoded data removed]",
            "text/plain": [
              "<Figure size 432x288 with 2 Axes>"
            ]
          },
          "metadata": {
            "tags": [],
            "needs_background": "light"
          }
        }
      ]
    },
    {
      "cell_type": "markdown",
      "metadata": {
        "id": "H4GNtbBKpwux"
      },
      "source": [
        "## Bayesian Online Change Point Detection\n",
        "\n",
        "+ https://arxiv.org/pdf/0710.3742.pdf"
      ]
    },
    {
      "cell_type": "code",
      "metadata": {
        "id": "ec1A8JoHoy4e"
      },
      "source": [
        "class BayesianOnlineChangePointDetection(object):\n",
        "    T = 0 # 観測時間\n",
        "\n",
        "    def __init__(self, hazard_func, distribution):\n",
        "        self.beliefs = np.zeros((2, 2))\n",
        "        self.beliefs[0, 0] = 1.\n",
        "        # ハザード関数と連長に関する確率密度分布は引数として与える\n",
        "        self.hazard_func = hazard_func\n",
        "        self.distribution = distribution\n",
        "\n",
        "    def reset_params(self):\n",
        "          \"\"\"\n",
        "          パラメタを初期状態にリセット\n",
        "          \"\"\"\n",
        "          self.T = 0\n",
        "          self.beliefs = np.zeros((2, 2))\n",
        "          # 例では初期状態で連長が必ず0になるので信念の初期状態は1.0\n",
        "          self.beliefs[0, 0] = 1.\n",
        "\n",
        "    def _expand_belief_matrix(self):\n",
        "          \"\"\"\n",
        "          観測時点数に合わせて信念行列beleifを大きくする\n",
        "          \"\"\"\n",
        "          n_row, n_col = self.beliefs.shape\n",
        "          rows = np.zeros((1, 2))\n",
        "          cols = np.zeros((n_row+1, 1))\n",
        "          self.beliefs = np.concatenate((self.beliefs, rows), axis=0)\n",
        "\n",
        "    def _shift_belief_matrix(self):\n",
        "          \"\"\"\n",
        "          信念行列の更新\n",
        "          \"\"\"\n",
        "          current_belief = self.beliefs[:, 0]\n",
        "          self.beliefs[:, 0] = self.beliefs[:, 1]\n",
        "          self.beliefs[:, 1] = 0\n",
        "          return current_belief\n",
        "\n",
        "    def _update_beliefs(self, hazard, pred_probs):\n",
        "        \"\"\"\n",
        "        信念（連長分布）の更新\n",
        "        \"\"\"\n",
        "        self._expand_belief_matrix()\n",
        "\n",
        "        # 連長の増加確率の計算（次の時点で連長が+1になる確率）\n",
        "        self.beliefs[1:self.T+2, 1] = self.beliefs[:self.T+1, 0]*pred_probs*(1 - hazard)\n",
        "\n",
        "        # 変化点確率の計算（次時点で連長が0になる確率）\n",
        "        self.beliefs[0, 1] = (self.beliefs[:self.T+1, 0]*pred_probs*hazard).sum()\n",
        "\n",
        "        # 信念（連長分布）の正規化\n",
        "        self.beliefs[:, 1] = self.beliefs[:, 1] / self.beliefs[:, 1].sum()\n",
        "\n",
        "    def update(self, x):\n",
        "      \"\"\"\n",
        "      予測分布、ハザード関数、連長分布、観測時間の更新\n",
        "      \"\"\"\n",
        "      # 予測分布の評価\n",
        "      pred_probs = self.distribution.pdf(x)\n",
        "\n",
        "      # ハザード関数の評価\n",
        "      hazard = self.hazard_func(np.arange(self.T+1))\n",
        "\n",
        "      # 連長分布、信念の更新\n",
        "      self._update_beliefs(hazard, pred_probs)\n",
        "\n",
        "      # 十分統計量（ここではハイパーパラメタと同義）の更新\n",
        "      self.distribution.update_params(x)\n",
        "\n",
        "      # 信念が最大のindexを取得（最も可能性の高い連長を取得）\n",
        "      max_belief_idx = np.where(self.beliefs[:, 0]==self.beliefs[:, 0].max())[0]\n",
        "\n",
        "      # 現在の信念の取得\n",
        "      current_belief = self._shift_belief_matrix()\n",
        "\n",
        "      self.T += 1\n",
        "      return max_belief_idx, current_belief"
      ],
      "execution_count": 13,
      "outputs": []
    },
    {
      "cell_type": "code",
      "metadata": {
        "id": "FXDM7u2Rp5Cx"
      },
      "source": [
        "class StudentT(object):\n",
        "    def __init__(self, mu0=0, kappa0=1, alpha0=1, beta0=1):\n",
        "        \"\"\"\n",
        "        パラメタの初期化\n",
        "        \"\"\"\n",
        "        self.mu0 = np.array([mu0])\n",
        "        self.kappa0 = np.array([kappa0])\n",
        "        self.alpha0 = np.array([alpha0])\n",
        "        self.beta0 = np.array([beta0])\n",
        "        self.reset_params()\n",
        "\n",
        "    def reset_params(self):\n",
        "        \"\"\"\n",
        "        パラメタを初期状態にリセット\n",
        "        \"\"\"\n",
        "        self.muT = self.mu0.copy()\n",
        "        self.kappaT = self.kappa0.copy()\n",
        "        self.alphaT = self.alpha0.copy()\n",
        "        self.betaT = self.beta0.copy()\n",
        "\n",
        "    def pdf(self, x):\n",
        "        \"\"\"\n",
        "        確率密度関数\n",
        "        確率密度分布のある点（x）における確率を返す\n",
        "        \"\"\"\n",
        "        return scipy.stats.t.pdf(x - self.muT,\n",
        "                                            np.power(2*self.alphaT, 0.5))\n",
        "        \n",
        "    def update_params(self, x):\n",
        "        \"\"\"\n",
        "        パラメタ（十分統計量）の更新\n",
        "        それぞれのパラメタベクトルは観測点分のベクトルとなる\n",
        "        \"\"\"\n",
        "        self.muT = np.concatenate([self.mu0, (self.kappaT * self.muT + x) / (self.kappaT + 1)])\n",
        "        self.kappaT = np.concatenate([self.kappa0,  self.kappaT + 1])\n",
        "        self.alphaT = np.concatenate([self.alpha0, self.alphaT + 0.5])\n",
        "        self.betaT = np.concatenate([self.beta0, (self.kappaT \\\n",
        "                                                 + (self.kappaT * (x - self.muT)**2) / (2 * (self.kappaT + 1)))])\n"
      ],
      "execution_count": 14,
      "outputs": []
    },
    {
      "cell_type": "code",
      "metadata": {
        "id": "B8d8wIhRp5Ft"
      },
      "source": [
        "def constant_hazard(r, _lambda):\n",
        "    \"\"\"\n",
        "    ハザード関数\n",
        "    予測分布が指数関数の場合は観測時点のみに依存\n",
        "    1/_lambda\n",
        "\n",
        "    Args:\n",
        "      r: 観測時間（no.ndarray or scalar）\n",
        "      _lambda: ハイパーパラメタ（float）\n",
        "\n",
        "    Returns:\n",
        "      p: 変化点である確率（np.ndarray with shape = r.shape）\n",
        "    \"\"\"\n",
        "    if isinstance(r, np.ndarray):\n",
        "        shape = r.shape\n",
        "    else:\n",
        "        shape = 1\n",
        "\n",
        "    # 変化点確率の計算\n",
        "    probability = np.ones(shape) / _lambda\n",
        "    return probability"
      ],
      "execution_count": 15,
      "outputs": []
    },
    {
      "cell_type": "code",
      "metadata": {
        "id": "v_hjntWgvHyN"
      },
      "source": [
        "data_3 = np.concatenate(\n",
        "                                      [np.random.normal(0.7, 0.05, 300), \n",
        "                                      np.random.normal(1.5, 0.05, 300),\n",
        "                                      np.random.normal(0.6, 0.05, 300),\n",
        "                                      np.random.normal(1.3, 0.05, 300)\n",
        "                                      ])"
      ],
      "execution_count": 16,
      "outputs": []
    },
    {
      "cell_type": "code",
      "metadata": {
        "id": "4O-S8FxC3I3Z"
      },
      "source": [
        "test_signal = data_2"
      ],
      "execution_count": 17,
      "outputs": []
    },
    {
      "cell_type": "code",
      "metadata": {
        "id": "a9Vl-oBFp5Ii"
      },
      "source": [
        "# ハザード関数\n",
        "hazard_func = lambda r : constant_hazard(r, _lambda=30)\n",
        "\n",
        "# 確率密度関数としてステューデントのt分布を用いる\n",
        "distribution = StudentT()\n",
        "\n",
        "# 予測分布の確率密度関数の初期化\n",
        "distribution.reset_params()\n",
        "\n",
        "bcp = BayesianOnlineChangePointDetection(hazard_func=hazard_func, distribution=distribution)\n",
        "bcp.reset_params()\n",
        "\n",
        "maxes = np.empty(test_signal.shape)\n",
        "beliefs = []\n",
        "\n",
        "# 例では連長の初期状態が必ず0になり、信念は1.0になることがわかっているため\n",
        "# 信念の初期状態を格納しておく\n",
        "beliefs.append(bcp.beliefs[:, 0])\n",
        "\n",
        "# 推定連長と信念の計算\n",
        "for i, d in enumerate(test_signal):\n",
        "  maxes[i], current_belief = bcp.update(d)\n",
        "  beliefs.append(current_belief)"
      ],
      "execution_count": 18,
      "outputs": []
    },
    {
      "cell_type": "code",
      "metadata": {
        "id": "tUp4f4Q-mAfg"
      },
      "source": [
        "max_len = beliefs[-1].shape[0]\n",
        "belief_matrix = np.zeros((max_len - 1, max_len - 1))\n",
        "\n",
        "for i, belief in enumerate(beliefs):\n",
        "  belief_matrix[:i+1, i] = belief[:-1]"
      ],
      "execution_count": 19,
      "outputs": []
    },
    {
      "cell_type": "code",
      "metadata": {
        "colab": {
          "base_uri": "https://localhost:8080/",
          "height": 299
        },
        "id": "yW4s9EZztpzl",
        "outputId": "b15f2768-ebe7-4351-89f1-84d743d38bda"
      },
      "source": [
        "fig, ax = plt.subplots(nrows=2, sharex=True)\n",
        "\n",
        "ax[0].plot(test_signal, alpha=0.5, label=\"observation\")\n",
        "ax[1].imshow(-np.log(belief_matrix), interpolation='none', aspect='auto',\n",
        "                    origin='lower', cmap=plt.cm.Blues, label=\"belief\")\n",
        "ax[1].plot(maxes, '--', color='r', label=\"run length\")\n",
        "ax[1].set_xlim([0, len(test_signal)])\n",
        "ax[1].set_ylim([0, ax[1].get_ylim()[1]])\n",
        "ax[0].grid()\n",
        "ax[1].grid()\n",
        "index_changes = np.where(np.diff(maxes) < 0)[0]\n",
        "ax[0].scatter(index_changes, test_signal[index_changes],\n",
        "                    c='green', label='change point');"
      ],
      "execution_count": 20,
      "outputs": [
        {
          "output_type": "stream",
          "text": [
            "/usr/local/lib/python3.7/dist-packages/ipykernel_launcher.py:4: RuntimeWarning: divide by zero encountered in log\n",
            "  after removing the cwd from sys.path.\n"
          ],
          "name": "stderr"
        },
        {
          "output_type": "display_data",
          "data": {
            "image/png": "[encoded data removed]",
            "text/plain": [
              "<Figure size 432x288 with 2 Axes>"
            ]
          },
          "metadata": {
            "tags": [],
            "needs_background": "light"
          }
        }
      ]
    },
    {
      "cell_type": "markdown",
      "metadata": {
        "id": "abHY1r2FcOhh"
      },
      "source": [
        "## 深層学習を用いた異常検知\n",
        "+ EncDec-AD"
      ]
    },
    {
      "cell_type": "code",
      "metadata": {
        "colab": {
          "base_uri": "https://localhost:8080/"
        },
        "id": "oLVQT8CMjbBm",
        "outputId": "9d26f0e7-7f46-461a-c881-860f04a84717"
      },
      "source": [
        "pip install tensorflow==2.0.0-alpha0"
      ],
      "execution_count": 33,
      "outputs": [
        {
          "output_type": "stream",
          "text": [
            "Requirement already satisfied: tensorflow==2.0.0-alpha0 in /usr/local/lib/python3.7/dist-packages (2.0.0a0)\n",
            "Requirement already satisfied: tf-estimator-nightly<1.14.0.dev2019030116,>=1.14.0.dev2019030115 in /usr/local/lib/python3.7/dist-packages (from tensorflow==2.0.0-alpha0) (1.14.0.dev2019030115)\n",
            "Requirement already satisfied: grpcio>=1.8.6 in /usr/local/lib/python3.7/dist-packages (from tensorflow==2.0.0-alpha0) (1.34.1)\n",
            "Requirement already satisfied: astor>=0.6.0 in /usr/local/lib/python3.7/dist-packages (from tensorflow==2.0.0-alpha0) (0.8.1)\n",
            "Requirement already satisfied: keras-preprocessing>=1.0.5 in /usr/local/lib/python3.7/dist-packages (from tensorflow==2.0.0-alpha0) (1.1.2)\n",
            "Requirement already satisfied: numpy<2.0,>=1.14.5 in /usr/local/lib/python3.7/dist-packages (from tensorflow==2.0.0-alpha0) (1.19.5)\n",
            "Requirement already satisfied: tb-nightly<1.14.0a20190302,>=1.14.0a20190301 in /usr/local/lib/python3.7/dist-packages (from tensorflow==2.0.0-alpha0) (1.14.0a20190301)\n",
            "Requirement already satisfied: gast>=0.2.0 in /usr/local/lib/python3.7/dist-packages (from tensorflow==2.0.0-alpha0) (0.4.0)\n",
            "Requirement already satisfied: absl-py>=0.7.0 in /usr/local/lib/python3.7/dist-packages (from tensorflow==2.0.0-alpha0) (0.12.0)\n",
            "Requirement already satisfied: google-pasta>=0.1.2 in /usr/local/lib/python3.7/dist-packages (from tensorflow==2.0.0-alpha0) (0.2.0)\n",
            "Requirement already satisfied: keras-applications>=1.0.6 in /usr/local/lib/python3.7/dist-packages (from tensorflow==2.0.0-alpha0) (1.0.8)\n",
            "Requirement already satisfied: six>=1.10.0 in /usr/local/lib/python3.7/dist-packages (from tensorflow==2.0.0-alpha0) (1.15.0)\n",
            "Requirement already satisfied: termcolor>=1.1.0 in /usr/local/lib/python3.7/dist-packages (from tensorflow==2.0.0-alpha0) (1.1.0)\n",
            "Requirement already satisfied: wheel>=0.26 in /usr/local/lib/python3.7/dist-packages (from tensorflow==2.0.0-alpha0) (0.36.2)\n",
            "Requirement already satisfied: protobuf>=3.6.1 in /usr/local/lib/python3.7/dist-packages (from tensorflow==2.0.0-alpha0) (3.17.3)\n",
            "Requirement already satisfied: h5py in /usr/local/lib/python3.7/dist-packages (from keras-applications>=1.0.6->tensorflow==2.0.0-alpha0) (3.1.0)\n",
            "Requirement already satisfied: werkzeug>=0.11.15 in /usr/local/lib/python3.7/dist-packages (from tb-nightly<1.14.0a20190302,>=1.14.0a20190301->tensorflow==2.0.0-alpha0) (1.0.1)\n",
            "Requirement already satisfied: markdown>=2.6.8 in /usr/local/lib/python3.7/dist-packages (from tb-nightly<1.14.0a20190302,>=1.14.0a20190301->tensorflow==2.0.0-alpha0) (3.3.4)\n",
            "Requirement already satisfied: importlib-metadata in /usr/local/lib/python3.7/dist-packages (from markdown>=2.6.8->tb-nightly<1.14.0a20190302,>=1.14.0a20190301->tensorflow==2.0.0-alpha0) (4.6.1)\n",
            "Requirement already satisfied: cached-property in /usr/local/lib/python3.7/dist-packages (from h5py->keras-applications>=1.0.6->tensorflow==2.0.0-alpha0) (1.5.2)\n",
            "Requirement already satisfied: typing-extensions>=3.6.4 in /usr/local/lib/python3.7/dist-packages (from importlib-metadata->markdown>=2.6.8->tb-nightly<1.14.0a20190302,>=1.14.0a20190301->tensorflow==2.0.0-alpha0) (3.7.4.3)\n",
            "Requirement already satisfied: zipp>=0.5 in /usr/local/lib/python3.7/dist-packages (from importlib-metadata->markdown>=2.6.8->tb-nightly<1.14.0a20190302,>=1.14.0a20190301->tensorflow==2.0.0-alpha0) (3.5.0)\n"
          ],
          "name": "stdout"
        }
      ]
    },
    {
      "cell_type": "code",
      "metadata": {
        "id": "s0Gzq2s6j4jS"
      },
      "source": [
        "import tensorflow as tf\n",
        "from tensorflow.python.eager import context\n",
        "import argparse\n",
        "import sys\n",
        "import time"
      ],
      "execution_count": 137,
      "outputs": []
    },
    {
      "cell_type": "code",
      "metadata": {
        "id": "rGcMyri42wzO"
      },
      "source": [
        "class FRNN(tf.keras.Model):\n",
        "    \"\"\"\n",
        "    エンコーダー\n",
        "    \"\"\"\n",
        "\n",
        "    def __init__(self, hidden_dim):\n",
        "        super().__init__()\n",
        "        # v2.0 alpha版ではtf.keras.layersとtf.nnで完全な互換性がない\n",
        "        # 一部v1.xのクラスを使用している\n",
        "        self.lstm = tf.compat.v1.nn.rnn_cell.LSTMCell(num_units=hidden_dim,\n",
        "                                                                            state_is_tuple=True)\n",
        "        \n",
        "    def call(self, input_seq):\n",
        "        batch_size = input_seq.shape[1]\n",
        "        # LSTMの状態初期化\n",
        "        state = self.lstm.zero_state(batch_size, tf.float32)\n",
        "\n",
        "        X = tf.transpose(input_seq, [1, 0, 2])\n",
        "        _, state = tf.compat.v1.nn.dynamic_rnn(self.lstm,\n",
        "                                                                    X,\n",
        "                                                                    initial_state=state)\n",
        "        return state"
      ],
      "execution_count": 138,
      "outputs": []
    },
    {
      "cell_type": "code",
      "metadata": {
        "id": "MyxH3ZKOcF6p"
      },
      "source": [
        "class BRNN(tf.keras.Model):\n",
        "    \"\"\"\n",
        "    デコーダー\n",
        "    \"\"\"\n",
        "\n",
        "    def __init__(self, hidden_dim, n_dim_obs=1, training=True):\n",
        "        super().__init__()\n",
        "        # デコーダー側のLSTM\n",
        "        self.lstm = tf.compat.v1.nn.rnn_cell.LSTMCell(num_units=hidden_dim,\n",
        "                                                                            state_is_tuple=True)\n",
        "        # 隠れ層の状態をもとに出力値を計算するための全結合層\n",
        "        self.out_linear = tf.keras.layers.Dense(\n",
        "                                                                  n_dim_obs,\n",
        "                                                                  kernel_initializer=tf.random_uniform_initializer(-0.1, 0.1)\n",
        "                                                                )\n",
        "        # 教師データを入力しLSTMの隠れ層の次元に合わせる全結合層\n",
        "        self.shape_linear = tf.keras.layers.Dense(\n",
        "                                                                    hidden_dim,\n",
        "                                                                    activation=tf.tanh,\n",
        "                                                                    kernel_initializer=tf.random_uniform_initializer(-0.1, 0.1)\n",
        "                                                                    )\n",
        "        self.n_dim_obs = n_dim_obs\n",
        "        self.training = training\n",
        "\n",
        "    def predict(self, state, seq_size):\n",
        "        \"\"\"\n",
        "        推論用のメソッド\n",
        "        \"\"\"\n",
        "        outputs = []\n",
        "        # t時点の出力\n",
        "        # stateは[hidden_state, cell_state]を保持している\n",
        "        output = self.out_linear(state[0])\n",
        "        outputs.insert(0, output)\n",
        "        for _ in range(1, seq_size):\n",
        "            # 次元をLSTMの隠れ状態に合わせる\n",
        "            inp = self.shape_linear(output)\n",
        "            _, shape = self.lstm(inp, state)\n",
        "\n",
        "            # 隠れ状態から出力値を算出する\n",
        "            output = self.out_linear(state[0])\n",
        "            outputs.insert(0, output)\n",
        "        return outputs\n",
        "        \n",
        "    def train(self, input_seq, state, seq_size):\n",
        "        \"\"\"\n",
        "        訓練用のメソッド\n",
        "        predict とほぼ同じ処理だが、観測データを使ってデコードする\n",
        "        \"\"\"\n",
        "\n",
        "        outputs = []\n",
        "        output = self.out_linear(state[0])\n",
        "        outputs.insert(0, output)\n",
        "        for t in reversed(range(1, seq_size)):\n",
        "              inp = self.shape_linear(input_seq[t])\n",
        "              out, state = self.lstm(inp, state)\n",
        "              output = self.out_linear(state[0])\n",
        "              outputs.insert(0, output)\n",
        "        return outputs\n",
        "\n",
        "    def call(self, f_lstm_latest_state, seq_size, input_seq=None):\n",
        "        batch_size = f_lstm_latest_state[0].shape[0]\n",
        "        # LSTMの状態の初期化\n",
        "        self.lstm.zero_state(batch_size, tf.float32)\n",
        "\n",
        "        # エンコーダーの最後の状態をデコーダーの初期状態とする\n",
        "        state = f_lstm_latest_state[0]\n",
        "\n",
        "        # 訓練\n",
        "        if self.training:\n",
        "              outputs = self.train(input_seq, f_lstm_latest_state, seq_size)\n",
        "\n",
        "        # 推論\n",
        "        else:\n",
        "              outputs = self.predict(f_lstm_latest_state, seq_size)\n",
        "\n",
        "        return tf.stack(outputs, axis=0)\n"
      ],
      "execution_count": 139,
      "outputs": []
    },
    {
      "cell_type": "code",
      "metadata": {
        "id": "w4v1_mxdvcwq"
      },
      "source": [
        "class EncDecAD(tf.keras.Model):\n",
        "    \"\"\"\n",
        "    EncDec-ADの本体\n",
        "    \"\"\"\n",
        "\n",
        "    def __init__(self,\n",
        "                      hidden_dim,\n",
        "                      n_dim_obs=1,\n",
        "                      training=True):\n",
        "        super().__init__()\n",
        "\n",
        "        # 観測値の次元\n",
        "        self.n_dim_obs = n_dim_obs\n",
        "        # エンコーダー\n",
        "        self.f_lstm = FRNN(hidden_dim)\n",
        "        # デコーダー\n",
        "        self.b_lstm = BRNN(hidden_dim, n_dim_obs, training)\n",
        "        self.training = training\n",
        "\n",
        "    def reset(self, training):\n",
        "        self.b_lstm.training = training\n",
        "\n",
        "    def call(self, input_seq, training=True):\n",
        "        # エンコーダー/デコーダーのtrainingオプションの初期化\n",
        "        self.reset(training)\n",
        "\n",
        "        batch_size = input_seq.shape[1]\n",
        "        seq_size = input_seq.shape[0]\n",
        "\n",
        "        # エンコーダー側の処理の実行\n",
        "        h = self.f_lstm(input_seq)\n",
        "\n",
        "        # デコーダー側の処理の実行\n",
        "        outputs = self.b_lstm(h, seq_size, input_seq=input_seq)\n",
        "        return outputs"
      ],
      "execution_count": 140,
      "outputs": []
    },
    {
      "cell_type": "code",
      "metadata": {
        "id": "ejZpvH2l1Ksy"
      },
      "source": [
        "def loss_fn(model, inputs, targets, training):\n",
        "    \"\"\"\n",
        "    損失計算メソッド\n",
        "    \"\"\"\n",
        "    seq_len, b_size, n_dim_obs = inputs.shape\n",
        "    labels = tf.reshape(targets, [-1])\n",
        "    outputs = model(inputs, training)\n",
        "    # データ長に影響されるためmean_squared_errorは使えない\n",
        "    # 愚直に二乗平方和を計算する\n",
        "    individual_losses = tf.math.reduce_sum(\n",
        "                                                                tf.math.squared_difference(outputs, targets), axis=1\n",
        "                                                              )\n",
        "    loss = tf.math.reduce_sum(individual_losses)\n",
        "    return loss, outputs\n",
        "\n",
        "def anomaly_score(outputs, targets, normal_data):\n",
        "    \"\"\"\n",
        "    異常スコアの計算メソッド\n",
        "    \"\"\"\n",
        "    seq_length, batch_size, n_dim_obs = targets.shape\n",
        "\n",
        "    eval_residual = np.abs(outputs - targets)\n",
        "    normal_residual = np.abs(outputs - normal_data)\n",
        "\n",
        "    res_mu = normal_residual.mean(axis=(0, 1))\n",
        "    res_sig = normal_residual.std(axis=(0, 1))\n",
        "    res_sig_inv = np.linalg.pinv(res_sig) if res_sig.shape[0] > 1 else 1/res_sig\n",
        "\n",
        "    diff_mu = (eval_residual - res_mu).transpose(1, 0, 2).reshape(-1, n_dim_obs)\n",
        "    if len(res_sig_inv) == 1:\n",
        "        scores = diff_mu / res_sig_inv * diff_mu\n",
        "    else:\n",
        "        scores = diff_mu.dot(res_sig_inv) * diff_mu\n",
        "    return scores.sum(axis=1)"
      ],
      "execution_count": 141,
      "outputs": []
    },
    {
      "cell_type": "code",
      "metadata": {
        "id": "qFxxUC9u3TM9"
      },
      "source": [
        "class Datasets(object):\n",
        "    \"\"\"\n",
        "    ダミーデータの生成\n",
        "    \"\"\"\n",
        "    def __init__(self):\n",
        "        # 訓練データ\n",
        "        t = np.linspace(0, 5*np.pi, 500)\n",
        "        self.train = 10*np.sin(t).reshape(-1, 1)\n",
        "        self.train = np.tile(np.abs(self.train), (32, 1)).astype('f')\n",
        "\n",
        "        # テストデータ\n",
        "        t = np.linspace(0, 4*np.pi, 400)\n",
        "        self.valid = 10*np.sin(t).reshape(-1, 1)\n",
        "        self.valid = np.concatenate(\n",
        "                                                  (np.random.randn(100).reshape(100, 1), self.valid),\n",
        "                                                    axis=0\n",
        "                                                )\n",
        "        self.valid = np.tile(np.abs(self.valid), (4, 1)).astype('f')"
      ],
      "execution_count": 142,
      "outputs": []
    },
    {
      "cell_type": "code",
      "metadata": {
        "id": "4SJGyUu05WuN"
      },
      "source": [
        "def _divide_into_batches(data, batch_size):\n",
        "    \"\"\"\n",
        "    系列データをEncDec-ADへの入力用に整形する\n",
        "    \"\"\"\n",
        "    n_time, n_dim_obs = data.shape\n",
        "    nbatch = n_time // batch_size\n",
        "    data = data[:nbatch * batch_size]\n",
        "    data = data.reshape(batch_size, -1, n_dim_obs).transpose((1, 0, 2))\n",
        "    return data\n",
        "\n",
        "def _get_batch(data, i, seq_len):\n",
        "    \"\"\"\n",
        "    バッチごとにデータを取得する\n",
        "    \"\"\"\n",
        "    slen = min(seq_len, data.shape[0] - i)\n",
        "    inputs = data[i:i + slen]\n",
        "    target = inputs.copy()\n",
        "\n",
        "    # tensorflowのopに変換\n",
        "    # dataは変換ではないので、constantとする\n",
        "    return tf.constant(inputs), tf.constant(target)"
      ],
      "execution_count": 143,
      "outputs": []
    },
    {
      "cell_type": "code",
      "metadata": {
        "id": "eunTt6PE7tXy"
      },
      "source": [
        "def train(model, optimizer, train_data, sequence_length, clip_ratio, training=True):\n",
        "    \"\"\"\n",
        "    1エポック分の学習\n",
        "    \"\"\"\n",
        "\n",
        "    def model_loss(inputs, targets):\n",
        "        return loss_fn(model, inputs, targets, training=training)[0]\n",
        "\n",
        "    total_time = 0\n",
        "    batch_start_idx_range = range(0, train_data.shape[0] - 1, sequence_length)\n",
        "\n",
        "    for batch, i in enumerate(batch_start_idx_range):\n",
        "        # バッチごとにデータを取得\n",
        "        train_seq, train_target = _get_batch(train_data, i, sequence_length)\n",
        "        start = time.time()\n",
        "        with tf.GradientTape() as tape:\n",
        "            loss, _ = loss_fn(model, train_seq, train_target, training)\n",
        "\n",
        "        # 勾配計算\n",
        "        grads = tape.gradient(loss, model.trainable_variables)\n",
        "\n",
        "        # パラメタ更新\n",
        "        optimizer.apply_gradients(zip(grads, model.trainable_variables))\n",
        "\n",
        "        total_time += (time.time() - start )\n",
        "        if batch % 10 == 0:\n",
        "            time_in_ms = (total_time * 1000) / (batch + 1)\n",
        "            sys.stderr.write(\n",
        "                                    \"batch %d: training loss %.2f, avg step time %d ms\\n\" %\n",
        "                                      (batch, model_loss(train_seq, train_target).numpy(),\n",
        "                                       time_in_ms)\n",
        "                                  )"
      ],
      "execution_count": 144,
      "outputs": []
    },
    {
      "cell_type": "code",
      "metadata": {
        "id": "VEuYXO9g-qz2"
      },
      "source": [
        "def evaluate(args, model, eval_data, train_data, training=True):\n",
        "    \"\"\"\n",
        "    エポックごとの評価\n",
        "    損失と異常スコアを計算\n",
        "    \"\"\"\n",
        "    total_loss = 0.0\n",
        "    total_batches = 0\n",
        "    start = time.time()\n",
        "    l_scores = []\n",
        "    for _, i in enumerate(range(0, eval_data.shape[0], args.seq_len)):\n",
        "        # バッチごとにデータを取得\n",
        "        inp, target = _get_batch(eval_data, i, args.seq_len)\n",
        "\n",
        "        # 損失関数\n",
        "        loss, outputs = loss_fn(model, inp, target, training=training)\n",
        "        total_loss += loss.numpy()\n",
        "        total_batches += 1\n",
        "\n",
        "        _, batch_size, _ = inp.shape\n",
        "        # 異常スコアの計算\n",
        "        scores = anomaly_score(outputs, target, train_data[:, :batch_size])\n",
        "        l_scores.append(scores)\n",
        "\n",
        "\n",
        "    time_in_ms = (time.time() - start) * 1000\n",
        "    sys.stderr.write(\"eval loss %.2f (eval took %d ms)\\n\" %\n",
        "                            (total_loss / total_batches, time_in_ms))\n",
        "    return total_loss, l_scores, outputs"
      ],
      "execution_count": 145,
      "outputs": []
    },
    {
      "cell_type": "code",
      "metadata": {
        "colab": {
          "base_uri": "https://localhost:8080/",
          "height": 35
        },
        "id": "HyXflGsp1aqo",
        "outputId": "5a59055b-9601-41c2-bd96-b8ad5deea2ea"
      },
      "source": [
        "pwd"
      ],
      "execution_count": 146,
      "outputs": [
        {
          "output_type": "execute_result",
          "data": {
            "application/vnd.google.colaboratory.intrinsic+json": {
              "type": "string"
            },
            "text/plain": [
              "'/content'"
            ]
          },
          "metadata": {
            "tags": []
          },
          "execution_count": 146
        }
      ]
    },
    {
      "cell_type": "code",
      "metadata": {
        "colab": {
          "base_uri": "https://localhost:8080/"
        },
        "id": "pTpYB7881cQ7",
        "outputId": "8b513fc6-68f8-4bc2-d678-473f684892b5"
      },
      "source": [
        "ls"
      ],
      "execution_count": 147,
      "outputs": [
        {
          "output_type": "stream",
          "text": [
            "\u001b[0m\u001b[01;34msample_data\u001b[0m/\n"
          ],
          "name": "stdout"
        }
      ]
    },
    {
      "cell_type": "code",
      "metadata": {
        "id": "ObVZdUQhAyfo"
      },
      "source": [
        "def main(args):\n",
        "    if not args.data_path:\n",
        "        raise ValueError(\"Must specify --data-path\")\n",
        "\n",
        "    # データセットの読み出し\n",
        "    data = Datasets()\n",
        "    # EncDec-ADへの入力用に整形した訓練データの作成\n",
        "    train_data = _divide_into_batches(data.train, args.batch_size)\n",
        "    # EncDec-ADへの入力用に整形したテストデータの作成\n",
        "    eval_data = _divide_into_batches(data.valid, args.eval_batch_size)\n",
        "\n",
        "    # GPUの有無の確認\n",
        "    have_gpu = context.num_gpus() > 0\n",
        "\n",
        "    # デバイスの割り当て（GPUデバイスが検出されない場合は使わない）\n",
        "    with tf.device(\"/device:GPU:0\" if have_gpu else None):\n",
        "        # 学習係数\n",
        "        # 学習係数は変化するのでVariableで定義\n",
        "        learning_rate = tf.Variable(args.learning_rate, name=\"learning_rate\")\n",
        "        sys.stderr.write(\"learning_rate=%f\\n\" % learning_rate.numpy())\n",
        "\n",
        "        # EncDecADクラスのインスタンス作成\n",
        "        model = EncDecAD(args.hidden_dim, args.training)\n",
        "        # オプティマイザオブジェクトの作成\n",
        "        optimizer = tf.keras.optimizers.Adam(learning_rate)\n",
        "\n",
        "        best_loss = None\n",
        "        cnt = 0\n",
        "        # エポックごとののループ\n",
        "        for _ in range(args.epoch):\n",
        "            # 訓練\n",
        "            train(model, optimizer, train_data, args.seq_len, args.clip)\n",
        "            # 評価\n",
        "            eval_loss, l_scores, outputs = evaluate(args,\n",
        "                                                                      model,\n",
        "                                                                      eval_data,\n",
        "                                                                      train_data)\n",
        "            # テストデータを使った評価での損失が下がった場合\n",
        "            if not best_loss or eval_loss < best_loss:\n",
        "                best_loss = eval_loss\n",
        "                cnt = 0\n",
        "\n",
        "            # テストデータを使った評価での損失が下がらなかった場合\n",
        "            else:\n",
        "                cnt += 1\n",
        "                # 6回連続で下がらなかった場合\n",
        "                if cnt > 5:\n",
        "                    # 学習係数を1/1.2倍する\n",
        "                    learning_rate.assign(max(learning_rate/1.2, .002))\n",
        "                    sys.stderr.write(\n",
        "                                            \"eval_loss did not reduce in this epoch, \"\n",
        "                                            \"changing learning rate to %f for the next epoch\\n\" %\n",
        "                                            learning_rate.numpy()\n",
        "                                            )\n",
        "                    cnt = 0\n",
        "\n",
        "        scores = l_scores[0]\n",
        "        for score in l_scores[1:] :\n",
        "            scores = np.concatenate([scores, score])\n",
        "\n",
        "        # 結果の表示\n",
        "        plt.plot(data.train[:len(data.valid)],\n",
        "                    color='g', alpha=0.5, label=\"normal\")\n",
        "        plt.plot(data.valid,\n",
        "                    ':', color='b', alpha=0.5, label=\"normal\")\n",
        "        plt.plot(outputs.numpy().transpose(1, 0, 2).flatten(),\n",
        "                    '--', color='y', label=\"predict\")\n",
        "        plt.plot(scores, '+-', color='r', alpha=0.3, label=\"score\")\n",
        "        plt.show()"
      ],
      "execution_count": 148,
      "outputs": []
    },
    {
      "cell_type": "code",
      "metadata": {
        "id": "0eRIBRIO7WJg"
      },
      "source": [
        "parser = argparse.ArgumentParser()\n",
        "parser.add_argument(\n",
        "    \"--data-path\",\n",
        "    type=str,\n",
        "    default=\"./src/chapter04/simple-examples/data\",\n",
        "    help=\"Data directory path\")\n",
        "parser.add_argument(\n",
        "    \"--learning-rate\", type=float, default=.05, help=\"Learning rate.\")\n",
        "parser.add_argument(\n",
        "    \"--epoch\", type=int, default=200, help=\"Number of epoches.\")\n",
        "parser.add_argument(\n",
        "    \"--batch-size\", type=int, default=32, help=\"Batch size.\")\n",
        "parser.add_argument(\n",
        "    \"--eval-batch-size\", type=int, default=4, help=\"Batch size.\")\n",
        "parser.add_argument(\n",
        "    \"--seq-len\", type=int, default=500, help=\"Sequence length.\")\n",
        "parser.add_argument(\n",
        "    \"--hidden-dim\", type=int, default=10, help=\"Hidden layer dimension.\")\n",
        "parser.add_argument(\n",
        "    \"--clip\", type=float, default=0.3, help=\"Gradient clipping ratio.\")\n",
        "parser.add_argument(\n",
        "    \"--training\", type=bool, default=True, help=\"Training or not.\")\n",
        "\n",
        "args, unparsed = parser.parse_known_args()"
      ],
      "execution_count": 149,
      "outputs": []
    },
    {
      "cell_type": "code",
      "metadata": {
        "colab": {
          "base_uri": "https://localhost:8080/"
        },
        "id": "RsiVi9Xc92fg",
        "outputId": "df4e2fa4-0cdc-4c74-9e09-d373c785e3d8"
      },
      "source": [
        "args"
      ],
      "execution_count": 150,
      "outputs": [
        {
          "output_type": "execute_result",
          "data": {
            "text/plain": [
              "Namespace(batch_size=32, clip=0.3, data_path='./src/chapter04/simple-examples/data', epoch=200, eval_batch_size=4, hidden_dim=10, learning_rate=0.05, seq_len=500, training=True)"
            ]
          },
          "metadata": {
            "tags": []
          },
          "execution_count": 150
        }
      ]
    },
    {
      "cell_type": "code",
      "metadata": {
        "colab": {
          "base_uri": "https://localhost:8080/",
          "height": 1000
        },
        "id": "wpj5NQXI8ZpN",
        "outputId": "e2c46b5f-17e5-4846-f942-cb442f9f5c82"
      },
      "source": [
        "%%time\n",
        "main(args)"
      ],
      "execution_count": 151,
      "outputs": [
        {
          "output_type": "stream",
          "text": [
            "learning_rate=0.050000\n",
            "batch 0: training loss 675430.56, avg step time 2703 ms\n",
            "eval loss 67760.18 (eval took 741 ms)\n",
            "batch 0: training loss 333077.44, avg step time 1836 ms\n",
            "eval loss 33437.95 (eval took 732 ms)\n",
            "batch 0: training loss 87436.62, avg step time 1932 ms\n",
            "eval loss 10651.28 (eval took 742 ms)\n",
            "batch 0: training loss 244014.42, avg step time 1793 ms\n",
            "eval loss 29568.26 (eval took 717 ms)\n",
            "batch 0: training loss 82467.05, avg step time 1925 ms\n",
            "eval loss 10912.15 (eval took 726 ms)\n",
            "batch 0: training loss 141475.25, avg step time 1770 ms\n",
            "eval loss 15614.75 (eval took 753 ms)\n",
            "batch 0: training loss 161315.06, avg step time 1937 ms\n",
            "eval loss 17333.69 (eval took 738 ms)\n",
            "batch 0: training loss 121966.05, avg step time 1794 ms\n",
            "eval loss 13560.68 (eval took 723 ms)\n",
            "batch 0: training loss 69028.59, avg step time 2034 ms\n",
            "eval loss 8742.35 (eval took 738 ms)\n",
            "batch 0: training loss 78904.12, avg step time 1797 ms\n",
            "eval loss 10362.72 (eval took 730 ms)\n",
            "batch 0: training loss 95373.29, avg step time 1941 ms\n",
            "eval loss 11895.41 (eval took 728 ms)\n",
            "batch 0: training loss 54924.51, avg step time 1784 ms\n",
            "eval loss 7065.03 (eval took 729 ms)\n",
            "batch 0: training loss 49813.53, avg step time 1934 ms\n",
            "eval loss 5862.40 (eval took 742 ms)\n",
            "batch 0: training loss 62546.96, avg step time 1799 ms\n",
            "eval loss 6731.23 (eval took 754 ms)\n",
            "batch 0: training loss 62555.21, avg step time 1974 ms\n",
            "eval loss 6535.53 (eval took 760 ms)\n",
            "batch 0: training loss 45679.66, avg step time 1861 ms\n",
            "eval loss 4769.25 (eval took 811 ms)\n",
            "batch 0: training loss 29082.69, avg step time 2015 ms\n",
            "eval loss 3092.97 (eval took 799 ms)\n",
            "batch 0: training loss 33365.35, avg step time 1817 ms\n",
            "eval loss 3541.51 (eval took 723 ms)\n",
            "batch 0: training loss 39252.62, avg step time 2074 ms\n",
            "eval loss 4187.77 (eval took 739 ms)\n",
            "batch 0: training loss 25423.85, avg step time 1800 ms\n",
            "eval loss 2883.38 (eval took 734 ms)\n",
            "batch 0: training loss 26878.62, avg step time 1978 ms\n",
            "eval loss 3063.16 (eval took 729 ms)\n",
            "batch 0: training loss 36550.59, avg step time 1801 ms\n",
            "eval loss 4011.71 (eval took 735 ms)\n",
            "batch 0: training loss 25056.12, avg step time 1938 ms\n",
            "eval loss 2809.83 (eval took 719 ms)\n",
            "batch 0: training loss 20583.68, avg step time 1837 ms\n",
            "eval loss 2306.59 (eval took 715 ms)\n",
            "batch 0: training loss 28210.65, avg step time 2006 ms\n",
            "eval loss 3026.05 (eval took 742 ms)\n",
            "batch 0: training loss 19908.65, avg step time 1841 ms\n",
            "eval loss 2167.19 (eval took 715 ms)\n",
            "batch 0: training loss 15654.82, avg step time 2152 ms\n",
            "eval loss 1721.64 (eval took 787 ms)\n",
            "batch 0: training loss 21008.63, avg step time 1877 ms\n",
            "eval loss 2245.20 (eval took 723 ms)\n",
            "batch 0: training loss 17785.45, avg step time 1968 ms\n",
            "eval loss 1924.13 (eval took 727 ms)\n",
            "batch 0: training loss 12461.65, avg step time 1827 ms\n",
            "eval loss 1409.98 (eval took 735 ms)\n",
            "batch 0: training loss 15535.97, avg step time 1963 ms\n",
            "eval loss 1751.96 (eval took 833 ms)\n",
            "batch 0: training loss 16023.10, avg step time 1901 ms\n",
            "eval loss 1840.67 (eval took 733 ms)\n",
            "batch 0: training loss 11672.36, avg step time 1966 ms\n",
            "eval loss 1440.73 (eval took 724 ms)\n",
            "batch 0: training loss 12383.50, avg step time 1850 ms\n",
            "eval loss 1543.52 (eval took 723 ms)\n",
            "batch 0: training loss 14215.61, avg step time 1968 ms\n",
            "eval loss 1763.74 (eval took 749 ms)\n",
            "batch 0: training loss 11690.76, avg step time 1812 ms\n",
            "eval loss 1556.96 (eval took 825 ms)\n",
            "eval_loss did not reduce in this epoch, changing learning rate to 0.041667 for the next epoch\n",
            "batch 0: training loss 10057.49, avg step time 1995 ms\n",
            "eval loss 1441.62 (eval took 725 ms)\n",
            "batch 0: training loss 11844.49, avg step time 1799 ms\n",
            "eval loss 1657.79 (eval took 720 ms)\n",
            "batch 0: training loss 10875.21, avg step time 1953 ms\n",
            "eval loss 1579.23 (eval took 716 ms)\n",
            "batch 0: training loss 8715.39, avg step time 1811 ms\n",
            "eval loss 1366.53 (eval took 733 ms)\n",
            "batch 0: training loss 9690.51, avg step time 1969 ms\n",
            "eval loss 1463.36 (eval took 726 ms)\n",
            "batch 0: training loss 9681.95, avg step time 1816 ms\n",
            "eval loss 1465.88 (eval took 728 ms)\n",
            "batch 0: training loss 7834.64, avg step time 1978 ms\n",
            "eval loss 1289.20 (eval took 726 ms)\n",
            "batch 0: training loss 8386.75, avg step time 1844 ms\n",
            "eval loss 1353.02 (eval took 721 ms)\n",
            "batch 0: training loss 8660.25, avg step time 2126 ms\n",
            "eval loss 1386.58 (eval took 770 ms)\n",
            "batch 0: training loss 7124.99, avg step time 1834 ms\n",
            "eval loss 1238.81 (eval took 718 ms)\n",
            "batch 0: training loss 7576.51, avg step time 1950 ms\n",
            "eval loss 1294.59 (eval took 700 ms)\n",
            "batch 0: training loss 7516.70, avg step time 1879 ms\n",
            "eval loss 1307.47 (eval took 720 ms)\n",
            "batch 0: training loss 6264.42, avg step time 1919 ms\n",
            "eval loss 1208.49 (eval took 738 ms)\n",
            "batch 0: training loss 6586.58, avg step time 1811 ms\n",
            "eval loss 1271.89 (eval took 718 ms)\n",
            "batch 0: training loss 6225.89, avg step time 2046 ms\n",
            "eval loss 1270.04 (eval took 743 ms)\n",
            "batch 0: training loss 5352.17, avg step time 1910 ms\n",
            "eval loss 1219.92 (eval took 738 ms)\n",
            "batch 0: training loss 5671.61, avg step time 1932 ms\n",
            "eval loss 1291.84 (eval took 723 ms)\n",
            "batch 0: training loss 5198.10, avg step time 1849 ms\n",
            "eval loss 1283.59 (eval took 735 ms)\n",
            "batch 0: training loss 4644.36, avg step time 1961 ms\n",
            "eval loss 1262.75 (eval took 731 ms)\n",
            "eval_loss did not reduce in this epoch, changing learning rate to 0.034722 for the next epoch\n",
            "batch 0: training loss 4882.96, avg step time 1814 ms\n",
            "eval loss 1316.06 (eval took 762 ms)\n",
            "batch 0: training loss 4302.59, avg step time 2027 ms\n",
            "eval loss 1285.26 (eval took 723 ms)\n",
            "batch 0: training loss 4074.52, avg step time 1831 ms\n",
            "eval loss 1290.23 (eval took 734 ms)\n",
            "batch 0: training loss 4118.57, avg step time 1946 ms\n",
            "eval loss 1322.43 (eval took 739 ms)\n",
            "batch 0: training loss 3551.74, avg step time 1840 ms\n",
            "eval loss 1294.41 (eval took 725 ms)\n",
            "batch 0: training loss 3607.10, avg step time 1966 ms\n",
            "eval loss 1338.69 (eval took 733 ms)\n",
            "eval_loss did not reduce in this epoch, changing learning rate to 0.028935 for the next epoch\n",
            "batch 0: training loss 3327.35, avg step time 1794 ms\n",
            "eval loss 1373.57 (eval took 755 ms)\n",
            "batch 0: training loss 3048.26, avg step time 1950 ms\n",
            "eval loss 1437.33 (eval took 708 ms)\n",
            "batch 0: training loss 3033.14, avg step time 1848 ms\n",
            "eval loss 1549.39 (eval took 717 ms)\n",
            "batch 0: training loss 2570.13, avg step time 1947 ms\n",
            "eval loss 1627.21 (eval took 726 ms)\n",
            "batch 0: training loss 2619.10, avg step time 1811 ms\n",
            "eval loss 1742.14 (eval took 722 ms)\n",
            "batch 0: training loss 2173.53, avg step time 1939 ms\n",
            "eval loss 1751.39 (eval took 712 ms)\n",
            "eval_loss did not reduce in this epoch, changing learning rate to 0.024113 for the next epoch\n",
            "batch 0: training loss 2148.53, avg step time 1799 ms\n",
            "eval loss 1717.30 (eval took 721 ms)\n",
            "batch 0: training loss 1700.93, avg step time 2018 ms\n",
            "eval loss 1574.33 (eval took 729 ms)\n",
            "batch 0: training loss 1622.46, avg step time 1903 ms\n",
            "eval loss 1428.26 (eval took 720 ms)\n",
            "batch 0: training loss 1225.59, avg step time 1976 ms\n",
            "eval loss 1238.12 (eval took 822 ms)\n",
            "batch 0: training loss 1216.15, avg step time 1800 ms\n",
            "eval loss 1150.45 (eval took 752 ms)\n",
            "batch 0: training loss 991.98, avg step time 1945 ms\n",
            "eval loss 1156.03 (eval took 729 ms)\n",
            "batch 0: training loss 1035.22, avg step time 1876 ms\n",
            "eval loss 1199.78 (eval took 743 ms)\n",
            "batch 0: training loss 1041.24, avg step time 1967 ms\n",
            "eval loss 1192.58 (eval took 725 ms)\n",
            "batch 0: training loss 827.19, avg step time 1815 ms\n",
            "eval loss 1305.51 (eval took 712 ms)\n",
            "batch 0: training loss 858.38, avg step time 2325 ms\n",
            "eval loss 1442.57 (eval took 926 ms)\n",
            "batch 0: training loss 842.53, avg step time 2770 ms\n",
            "eval loss 1463.01 (eval took 1043 ms)\n",
            "eval_loss did not reduce in this epoch, changing learning rate to 0.020094 for the next epoch\n",
            "batch 0: training loss 528.09, avg step time 1945 ms\n",
            "eval loss 1693.11 (eval took 731 ms)\n",
            "batch 0: training loss 387.68, avg step time 1903 ms\n",
            "eval loss 1924.99 (eval took 751 ms)\n",
            "batch 0: training loss 414.26, avg step time 1960 ms\n",
            "eval loss 2165.23 (eval took 784 ms)\n",
            "batch 0: training loss 285.91, avg step time 1881 ms\n",
            "eval loss 2639.98 (eval took 738 ms)\n",
            "batch 0: training loss 201.81, avg step time 1938 ms\n",
            "eval loss 2933.13 (eval took 731 ms)\n",
            "batch 0: training loss 292.71, avg step time 1967 ms\n",
            "eval loss 3126.39 (eval took 752 ms)\n",
            "eval_loss did not reduce in this epoch, changing learning rate to 0.016745 for the next epoch\n",
            "batch 0: training loss 301.24, avg step time 1980 ms\n",
            "eval loss 3336.52 (eval took 719 ms)\n",
            "batch 0: training loss 241.51, avg step time 1859 ms\n",
            "eval loss 3214.83 (eval took 814 ms)\n",
            "batch 0: training loss 279.20, avg step time 2109 ms\n",
            "eval loss 3035.99 (eval took 726 ms)\n",
            "batch 0: training loss 270.52, avg step time 1925 ms\n",
            "eval loss 2937.27 (eval took 755 ms)\n",
            "batch 0: training loss 220.05, avg step time 2033 ms\n",
            "eval loss 2736.27 (eval took 716 ms)\n",
            "batch 0: training loss 233.39, avg step time 1821 ms\n",
            "eval loss 2570.95 (eval took 712 ms)\n",
            "eval_loss did not reduce in this epoch, changing learning rate to 0.013954 for the next epoch\n",
            "batch 0: training loss 194.00, avg step time 1936 ms\n",
            "eval loss 2511.91 (eval took 723 ms)\n",
            "batch 0: training loss 176.00, avg step time 1838 ms\n",
            "eval loss 2426.42 (eval took 709 ms)\n",
            "batch 0: training loss 170.32, avg step time 1952 ms\n",
            "eval loss 2315.21 (eval took 748 ms)\n",
            "batch 0: training loss 131.77, avg step time 1890 ms\n",
            "eval loss 2261.32 (eval took 801 ms)\n",
            "batch 0: training loss 131.75, avg step time 1948 ms\n",
            "eval loss 2218.76 (eval took 723 ms)\n",
            "batch 0: training loss 102.26, avg step time 1838 ms\n",
            "eval loss 2137.70 (eval took 722 ms)\n",
            "eval_loss did not reduce in this epoch, changing learning rate to 0.011628 for the next epoch\n",
            "batch 0: training loss 97.13, avg step time 1930 ms\n",
            "eval loss 2094.82 (eval took 733 ms)\n",
            "batch 0: training loss 95.63, avg step time 1806 ms\n",
            "eval loss 2094.56 (eval took 719 ms)\n",
            "batch 0: training loss 82.29, avg step time 1988 ms\n",
            "eval loss 2073.35 (eval took 757 ms)\n",
            "batch 0: training loss 90.52, avg step time 1852 ms\n",
            "eval loss 2056.78 (eval took 719 ms)\n",
            "batch 0: training loss 77.27, avg step time 1946 ms\n",
            "eval loss 2068.67 (eval took 728 ms)\n",
            "batch 0: training loss 72.22, avg step time 1830 ms\n",
            "eval loss 2054.46 (eval took 797 ms)\n",
            "eval_loss did not reduce in this epoch, changing learning rate to 0.009690 for the next epoch\n",
            "batch 0: training loss 71.81, avg step time 1983 ms\n",
            "eval loss 2010.36 (eval took 725 ms)\n",
            "batch 0: training loss 59.52, avg step time 1931 ms\n",
            "eval loss 1983.24 (eval took 735 ms)\n",
            "batch 0: training loss 63.23, avg step time 1955 ms\n",
            "eval loss 1947.96 (eval took 798 ms)\n",
            "batch 0: training loss 63.56, avg step time 1829 ms\n",
            "eval loss 1895.50 (eval took 724 ms)\n",
            "batch 0: training loss 59.92, avg step time 1921 ms\n",
            "eval loss 1877.16 (eval took 742 ms)\n",
            "batch 0: training loss 65.60, avg step time 1895 ms\n",
            "eval loss 1880.86 (eval took 714 ms)\n",
            "eval_loss did not reduce in this epoch, changing learning rate to 0.008075 for the next epoch\n",
            "batch 0: training loss 61.84, avg step time 1945 ms\n",
            "eval loss 1884.77 (eval took 729 ms)\n",
            "batch 0: training loss 55.72, avg step time 1820 ms\n",
            "eval loss 1923.63 (eval took 749 ms)\n",
            "batch 0: training loss 55.74, avg step time 1966 ms\n",
            "eval loss 1980.63 (eval took 746 ms)\n",
            "batch 0: training loss 49.93, avg step time 1806 ms\n",
            "eval loss 2021.20 (eval took 774 ms)\n",
            "batch 0: training loss 45.34, avg step time 2018 ms\n",
            "eval loss 2070.40 (eval took 729 ms)\n",
            "batch 0: training loss 46.08, avg step time 1797 ms\n",
            "eval loss 2111.29 (eval took 725 ms)\n",
            "eval_loss did not reduce in this epoch, changing learning rate to 0.006729 for the next epoch\n",
            "batch 0: training loss 42.29, avg step time 1932 ms\n",
            "eval loss 2116.18 (eval took 728 ms)\n",
            "batch 0: training loss 38.36, avg step time 1794 ms\n",
            "eval loss 2118.61 (eval took 724 ms)\n",
            "batch 0: training loss 38.59, avg step time 2089 ms\n",
            "eval loss 2112.50 (eval took 728 ms)\n",
            "batch 0: training loss 36.33, avg step time 1847 ms\n",
            "eval loss 2085.35 (eval took 734 ms)\n",
            "batch 0: training loss 33.88, avg step time 1972 ms\n",
            "eval loss 2070.84 (eval took 728 ms)\n",
            "batch 0: training loss 35.05, avg step time 1793 ms\n",
            "eval loss 2060.92 (eval took 745 ms)\n",
            "eval_loss did not reduce in this epoch, changing learning rate to 0.005608 for the next epoch\n",
            "batch 0: training loss 34.80, avg step time 1952 ms\n",
            "eval loss 2043.51 (eval took 717 ms)\n",
            "batch 0: training loss 33.40, avg step time 1834 ms\n",
            "eval loss 2041.86 (eval took 761 ms)\n",
            "batch 0: training loss 34.10, avg step time 1978 ms\n",
            "eval loss 2041.65 (eval took 759 ms)\n",
            "batch 0: training loss 33.80, avg step time 1818 ms\n",
            "eval loss 2032.26 (eval took 714 ms)\n",
            "batch 0: training loss 31.90, avg step time 1960 ms\n",
            "eval loss 2034.28 (eval took 752 ms)\n",
            "batch 0: training loss 31.57, avg step time 1807 ms\n",
            "eval loss 2032.51 (eval took 818 ms)\n",
            "eval_loss did not reduce in this epoch, changing learning rate to 0.004673 for the next epoch\n",
            "batch 0: training loss 31.91, avg step time 1967 ms\n",
            "eval loss 2024.57 (eval took 760 ms)\n",
            "batch 0: training loss 31.09, avg step time 1896 ms\n",
            "eval loss 2029.22 (eval took 803 ms)\n",
            "batch 0: training loss 30.55, avg step time 1974 ms\n",
            "eval loss 2027.79 (eval took 745 ms)\n",
            "batch 0: training loss 30.87, avg step time 1826 ms\n",
            "eval loss 2025.66 (eval took 735 ms)\n",
            "batch 0: training loss 30.54, avg step time 1981 ms\n",
            "eval loss 2031.83 (eval took 840 ms)\n",
            "batch 0: training loss 29.49, avg step time 1813 ms\n",
            "eval loss 2026.10 (eval took 724 ms)\n",
            "eval_loss did not reduce in this epoch, changing learning rate to 0.003894 for the next epoch\n",
            "batch 0: training loss 28.98, avg step time 1948 ms\n",
            "eval loss 2022.17 (eval took 744 ms)\n",
            "batch 0: training loss 29.00, avg step time 1919 ms\n",
            "eval loss 2018.56 (eval took 705 ms)\n",
            "batch 0: training loss 28.56, avg step time 1944 ms\n",
            "eval loss 2005.18 (eval took 722 ms)\n",
            "batch 0: training loss 27.78, avg step time 1842 ms\n",
            "eval loss 1999.79 (eval took 711 ms)\n",
            "batch 0: training loss 27.41, avg step time 2009 ms\n",
            "eval loss 1993.62 (eval took 725 ms)\n",
            "batch 0: training loss 27.26, avg step time 1882 ms\n",
            "eval loss 1987.93 (eval took 739 ms)\n",
            "eval_loss did not reduce in this epoch, changing learning rate to 0.003245 for the next epoch\n",
            "batch 0: training loss 26.75, avg step time 1966 ms\n",
            "eval loss 1992.51 (eval took 706 ms)\n",
            "batch 0: training loss 26.09, avg step time 1830 ms\n",
            "eval loss 1993.68 (eval took 724 ms)\n",
            "batch 0: training loss 25.79, avg step time 1954 ms\n",
            "eval loss 1997.79 (eval took 741 ms)\n",
            "batch 0: training loss 25.75, avg step time 1830 ms\n",
            "eval loss 2003.07 (eval took 716 ms)\n",
            "batch 0: training loss 25.54, avg step time 1925 ms\n",
            "eval loss 1999.67 (eval took 761 ms)\n",
            "batch 0: training loss 25.20, avg step time 1811 ms\n",
            "eval loss 1997.22 (eval took 728 ms)\n",
            "eval_loss did not reduce in this epoch, changing learning rate to 0.002704 for the next epoch\n",
            "batch 0: training loss 25.02, avg step time 2075 ms\n",
            "eval loss 1989.27 (eval took 725 ms)\n",
            "batch 0: training loss 24.95, avg step time 1898 ms\n",
            "eval loss 1977.23 (eval took 747 ms)\n",
            "batch 0: training loss 24.75, avg step time 1983 ms\n",
            "eval loss 1969.16 (eval took 806 ms)\n",
            "batch 0: training loss 24.47, avg step time 1884 ms\n",
            "eval loss 1958.23 (eval took 724 ms)\n",
            "batch 0: training loss 24.28, avg step time 1996 ms\n",
            "eval loss 1951.88 (eval took 731 ms)\n",
            "batch 0: training loss 24.19, avg step time 1819 ms\n",
            "eval loss 1949.36 (eval took 735 ms)\n",
            "eval_loss did not reduce in this epoch, changing learning rate to 0.002254 for the next epoch\n",
            "batch 0: training loss 24.04, avg step time 1998 ms\n",
            "eval loss 1946.01 (eval took 745 ms)\n",
            "batch 0: training loss 23.80, avg step time 1878 ms\n",
            "eval loss 1948.00 (eval took 724 ms)\n",
            "batch 0: training loss 23.57, avg step time 1926 ms\n",
            "eval loss 1948.14 (eval took 726 ms)\n",
            "batch 0: training loss 23.41, avg step time 1925 ms\n",
            "eval loss 1948.51 (eval took 728 ms)\n",
            "batch 0: training loss 23.27, avg step time 2029 ms\n",
            "eval loss 1950.61 (eval took 845 ms)\n",
            "batch 0: training loss 23.07, avg step time 1899 ms\n",
            "eval loss 1949.33 (eval took 715 ms)\n",
            "eval_loss did not reduce in this epoch, changing learning rate to 0.002000 for the next epoch\n",
            "batch 0: training loss 22.85, avg step time 1954 ms\n",
            "eval loss 1951.13 (eval took 727 ms)\n",
            "batch 0: training loss 22.66, avg step time 1820 ms\n",
            "eval loss 1951.52 (eval took 719 ms)\n",
            "batch 0: training loss 22.50, avg step time 2037 ms\n",
            "eval loss 1952.06 (eval took 706 ms)\n",
            "batch 0: training loss 22.36, avg step time 1848 ms\n",
            "eval loss 1954.46 (eval took 739 ms)\n",
            "batch 0: training loss 22.20, avg step time 2041 ms\n",
            "eval loss 1954.04 (eval took 829 ms)\n",
            "batch 0: training loss 22.02, avg step time 1817 ms\n",
            "eval loss 1955.68 (eval took 706 ms)\n",
            "eval_loss did not reduce in this epoch, changing learning rate to 0.002000 for the next epoch\n",
            "batch 0: training loss 21.86, avg step time 1979 ms\n",
            "eval loss 1955.19 (eval took 738 ms)\n",
            "batch 0: training loss 21.72, avg step time 1782 ms\n",
            "eval loss 1954.55 (eval took 825 ms)\n",
            "batch 0: training loss 21.58, avg step time 2080 ms\n",
            "eval loss 1954.87 (eval took 733 ms)\n",
            "batch 0: training loss 21.44, avg step time 1813 ms\n",
            "eval loss 1953.49 (eval took 727 ms)\n",
            "batch 0: training loss 21.28, avg step time 1999 ms\n",
            "eval loss 1954.68 (eval took 718 ms)\n",
            "batch 0: training loss 21.12, avg step time 1836 ms\n",
            "eval loss 1954.40 (eval took 736 ms)\n",
            "eval_loss did not reduce in this epoch, changing learning rate to 0.002000 for the next epoch\n",
            "batch 0: training loss 20.97, avg step time 1969 ms\n",
            "eval loss 1955.22 (eval took 717 ms)\n",
            "batch 0: training loss 20.84, avg step time 1845 ms\n",
            "eval loss 1955.70 (eval took 724 ms)\n",
            "batch 0: training loss 20.71, avg step time 1958 ms\n",
            "eval loss 1954.65 (eval took 740 ms)\n",
            "batch 0: training loss 20.58, avg step time 1806 ms\n",
            "eval loss 1954.30 (eval took 718 ms)\n",
            "batch 0: training loss 20.44, avg step time 1956 ms\n",
            "eval loss 1951.50 (eval took 722 ms)\n",
            "batch 0: training loss 20.30, avg step time 1919 ms\n",
            "eval loss 1950.02 (eval took 710 ms)\n",
            "eval_loss did not reduce in this epoch, changing learning rate to 0.002000 for the next epoch\n",
            "batch 0: training loss 20.16, avg step time 1958 ms\n",
            "eval loss 1947.44 (eval took 758 ms)\n",
            "batch 0: training loss 20.03, avg step time 1868 ms\n",
            "eval loss 1946.09 (eval took 773 ms)\n",
            "batch 0: training loss 19.90, avg step time 1970 ms\n",
            "eval loss 1945.53 (eval took 718 ms)\n",
            "batch 0: training loss 19.77, avg step time 1795 ms\n",
            "eval loss 1945.20 (eval took 743 ms)\n",
            "batch 0: training loss 19.64, avg step time 2022 ms\n",
            "eval loss 1946.43 (eval took 744 ms)\n",
            "batch 0: training loss 19.51, avg step time 1821 ms\n",
            "eval loss 1946.52 (eval took 717 ms)\n",
            "eval_loss did not reduce in this epoch, changing learning rate to 0.002000 for the next epoch\n",
            "batch 0: training loss 19.38, avg step time 1991 ms\n",
            "eval loss 1947.80 (eval took 738 ms)\n",
            "batch 0: training loss 19.25, avg step time 1839 ms\n",
            "eval loss 1947.27 (eval took 722 ms)\n",
            "batch 0: training loss 19.12, avg step time 1937 ms\n",
            "eval loss 1947.35 (eval took 738 ms)\n",
            "batch 0: training loss 19.00, avg step time 1878 ms\n",
            "eval loss 1946.09 (eval took 743 ms)\n",
            "batch 0: training loss 18.87, avg step time 1940 ms\n",
            "eval loss 1945.12 (eval took 717 ms)\n",
            "batch 0: training loss 18.75, avg step time 1925 ms\n",
            "eval loss 1943.81 (eval took 743 ms)\n",
            "eval_loss did not reduce in this epoch, changing learning rate to 0.002000 for the next epoch\n",
            "batch 0: training loss 18.63, avg step time 1930 ms\n",
            "eval loss 1942.50 (eval took 765 ms)\n",
            "batch 0: training loss 18.51, avg step time 1813 ms\n",
            "eval loss 1941.63 (eval took 738 ms)\n",
            "batch 0: training loss 18.39, avg step time 1956 ms\n",
            "eval loss 1940.28 (eval took 728 ms)\n",
            "batch 0: training loss 18.28, avg step time 1827 ms\n",
            "eval loss 1939.75 (eval took 740 ms)\n",
            "batch 0: training loss 18.16, avg step time 1933 ms\n",
            "eval loss 1938.31 (eval took 713 ms)\n",
            "batch 0: training loss 18.05, avg step time 1797 ms\n",
            "eval loss 1938.03 (eval took 750 ms)\n",
            "eval_loss did not reduce in this epoch, changing learning rate to 0.002000 for the next epoch\n",
            "batch 0: training loss 17.94, avg step time 2015 ms\n",
            "eval loss 1936.60 (eval took 742 ms)\n",
            "batch 0: training loss 17.83, avg step time 1832 ms\n",
            "eval loss 1936.78 (eval took 717 ms)\n",
            "batch 0: training loss 17.72, avg step time 2087 ms\n",
            "eval loss 1935.50 (eval took 712 ms)\n",
            "batch 0: training loss 17.61, avg step time 1930 ms\n",
            "eval loss 1936.32 (eval took 717 ms)\n",
            "batch 0: training loss 17.51, avg step time 1940 ms\n",
            "eval loss 1934.99 (eval took 797 ms)\n",
            "batch 0: training loss 17.42, avg step time 1854 ms\n",
            "eval loss 1936.43 (eval took 728 ms)\n",
            "eval_loss did not reduce in this epoch, changing learning rate to 0.002000 for the next epoch\n",
            "batch 0: training loss 17.35, avg step time 1950 ms\n",
            "eval loss 1934.44 (eval took 723 ms)\n",
            "batch 0: training loss 17.30, avg step time 1793 ms\n",
            "eval loss 1936.71 (eval took 782 ms)\n"
          ],
          "name": "stderr"
        },
        {
          "output_type": "display_data",
          "data": {
            "image/png": "[encoded data removed]",
            "text/plain": [
              "<Figure size 432x288 with 1 Axes>"
            ]
          },
          "metadata": {
            "tags": [],
            "needs_background": "light"
          }
        },
        {
          "output_type": "stream",
          "text": [
            "CPU times: user 11min 17s, sys: 2.26 s, total: 11min 19s\n",
            "Wall time: 11min 20s\n"
          ],
          "name": "stdout"
        }
      ]
    },
    {
      "cell_type": "code",
      "metadata": {
        "id": "4vkTm-DD8gmc"
      },
      "source": [
        ""
      ],
      "execution_count": 153,
      "outputs": []
    },
    {
      "cell_type": "code",
      "metadata": {
        "id": "EYhaJLYnuTDh"
      },
      "source": [
        ""
      ],
      "execution_count": null,
      "outputs": []
    }
  ]
}